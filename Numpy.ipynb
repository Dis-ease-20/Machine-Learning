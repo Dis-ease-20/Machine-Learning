{
  "nbformat": 4,
  "nbformat_minor": 0,
  "metadata": {
    "colab": {
      "name": "Numpy.ipynb",
      "provenance": [],
      "collapsed_sections": [],
      "authorship_tag": "ABX9TyOn/Nj6h5S7mDWb8lZ9dDdK",
      "include_colab_link": true
    },
    "kernelspec": {
      "name": "python3",
      "display_name": "Python 3"
    },
    "language_info": {
      "name": "python"
    }
  },
  "cells": [
    {
      "cell_type": "markdown",
      "metadata": {
        "id": "view-in-github",
        "colab_type": "text"
      },
      "source": [
        "<a href=\"https://colab.research.google.com/github/Dis-ease-20/Machine-Learning/blob/main/Numpy.ipynb\" target=\"_parent\"><img src=\"https://colab.research.google.com/assets/colab-badge.svg\" alt=\"Open In Colab\"/></a>"
      ]
    },
    {
      "cell_type": "markdown",
      "metadata": {
        "id": "eGjWQSr-Ct75"
      },
      "source": [
        "**Importing the Numpy library **"
      ]
    },
    {
      "cell_type": "code",
      "metadata": {
        "id": "umgrxtp1Ko1F"
      },
      "source": [
        "import numpy as np"
      ],
      "execution_count": 1,
      "outputs": []
    },
    {
      "cell_type": "code",
      "metadata": {
        "id": "GZRxL1PHK0Rh"
      },
      "source": [
        "arr = np.array([1,2,3,4,5,6,7])"
      ],
      "execution_count": 2,
      "outputs": []
    },
    {
      "cell_type": "code",
      "metadata": {
        "colab": {
          "base_uri": "https://localhost:8080/"
        },
        "id": "HFQF-ESSUfvi",
        "outputId": "f87d794b-3c47-458a-d21f-5003be5cdae1"
      },
      "source": [
        "print(arr)"
      ],
      "execution_count": 3,
      "outputs": [
        {
          "output_type": "stream",
          "text": [
            "[1 2 3 4 5 6 7]\n"
          ],
          "name": "stdout"
        }
      ]
    },
    {
      "cell_type": "code",
      "metadata": {
        "colab": {
          "base_uri": "https://localhost:8080/"
        },
        "id": "BN_lmDXmWfZ7",
        "outputId": "9f93fe2a-7498-44f5-d44d-717523601425"
      },
      "source": [
        "type(arr)"
      ],
      "execution_count": 4,
      "outputs": [
        {
          "output_type": "execute_result",
          "data": {
            "text/plain": [
              "numpy.ndarray"
            ]
          },
          "metadata": {
            "tags": []
          },
          "execution_count": 4
        }
      ]
    },
    {
      "cell_type": "markdown",
      "metadata": {
        "id": "HaX2PSsXWuaU"
      },
      "source": [
        "**0-D Array**"
      ]
    },
    {
      "cell_type": "code",
      "metadata": {
        "colab": {
          "base_uri": "https://localhost:8080/"
        },
        "id": "RD_a04B8W1JG",
        "outputId": "68cd03d5-4ce4-46c7-f6f8-de090f677892"
      },
      "source": [
        "arr0 = np.array(45)\n",
        "print(arr0)"
      ],
      "execution_count": 5,
      "outputs": [
        {
          "output_type": "stream",
          "text": [
            "45\n"
          ],
          "name": "stdout"
        }
      ]
    },
    {
      "cell_type": "markdown",
      "metadata": {
        "id": "m9LFrD3sW7WU"
      },
      "source": [
        "**1-D Array**"
      ]
    },
    {
      "cell_type": "code",
      "metadata": {
        "colab": {
          "base_uri": "https://localhost:8080/"
        },
        "id": "hmCvnVY_W6bF",
        "outputId": "e89e2789-1731-4486-f0ed-8a69a696dd54"
      },
      "source": [
        "arr1 = np.array([23,56,23,56,76])\n",
        "print(arr1)"
      ],
      "execution_count": 6,
      "outputs": [
        {
          "output_type": "stream",
          "text": [
            "[23 56 23 56 76]\n"
          ],
          "name": "stdout"
        }
      ]
    },
    {
      "cell_type": "markdown",
      "metadata": {
        "id": "c5fvJoV-XG0k"
      },
      "source": [
        "**2-D Array**"
      ]
    },
    {
      "cell_type": "code",
      "metadata": {
        "colab": {
          "base_uri": "https://localhost:8080/"
        },
        "id": "7n-EbTnNXKGe",
        "outputId": "6292d09a-ef1f-4ed0-ef11-318b1222d3b8"
      },
      "source": [
        "arr2 = np.array([[12,3,45,2,3],[12,77,4,23,32]])\n",
        "print(arr2)"
      ],
      "execution_count": 7,
      "outputs": [
        {
          "output_type": "stream",
          "text": [
            "[[12  3 45  2  3]\n",
            " [12 77  4 23 32]]\n"
          ],
          "name": "stdout"
        }
      ]
    },
    {
      "cell_type": "markdown",
      "metadata": {
        "id": "s-1R2gglXcuY"
      },
      "source": [
        "**3-D Array**"
      ]
    },
    {
      "cell_type": "code",
      "metadata": {
        "colab": {
          "base_uri": "https://localhost:8080/"
        },
        "id": "G_pAVJFPXjLY",
        "outputId": "1f8fa224-ef00-474d-aa53-31dc593e2b4c"
      },
      "source": [
        "arr3 = np.array([[[1,2,3],[4,5,6],[7,8,9]],[[1,2,3],[4,5,6],[7,8,9]]])\n",
        "print(arr3)"
      ],
      "execution_count": 8,
      "outputs": [
        {
          "output_type": "stream",
          "text": [
            "[[[1 2 3]\n",
            "  [4 5 6]\n",
            "  [7 8 9]]\n",
            "\n",
            " [[1 2 3]\n",
            "  [4 5 6]\n",
            "  [7 8 9]]]\n"
          ],
          "name": "stdout"
        }
      ]
    },
    {
      "cell_type": "code",
      "metadata": {
        "colab": {
          "base_uri": "https://localhost:8080/"
        },
        "id": "RWy2vokwXu7u",
        "outputId": "e375c09d-5224-4c7c-862a-c047edf8106e"
      },
      "source": [
        "#checking the dimension of array\n",
        "arr0.ndim"
      ],
      "execution_count": 9,
      "outputs": [
        {
          "output_type": "execute_result",
          "data": {
            "text/plain": [
              "0"
            ]
          },
          "metadata": {
            "tags": []
          },
          "execution_count": 9
        }
      ]
    },
    {
      "cell_type": "code",
      "metadata": {
        "colab": {
          "base_uri": "https://localhost:8080/"
        },
        "id": "VSvlJKGuYrIC",
        "outputId": "cb40f2c1-1e6a-4998-9b34-48fa2722687b"
      },
      "source": [
        "#checking the dimension of array\n",
        "arr1.ndim"
      ],
      "execution_count": 10,
      "outputs": [
        {
          "output_type": "execute_result",
          "data": {
            "text/plain": [
              "1"
            ]
          },
          "metadata": {
            "tags": []
          },
          "execution_count": 10
        }
      ]
    },
    {
      "cell_type": "code",
      "metadata": {
        "colab": {
          "base_uri": "https://localhost:8080/"
        },
        "id": "no2k6OygYwtv",
        "outputId": "59d7cffd-e448-495d-bdd2-a95cfe552794"
      },
      "source": [
        "#checking the dimension of array\n",
        "arr2.ndim"
      ],
      "execution_count": 11,
      "outputs": [
        {
          "output_type": "execute_result",
          "data": {
            "text/plain": [
              "2"
            ]
          },
          "metadata": {
            "tags": []
          },
          "execution_count": 11
        }
      ]
    },
    {
      "cell_type": "code",
      "metadata": {
        "colab": {
          "base_uri": "https://localhost:8080/"
        },
        "id": "rPRnnSF2Y3gm",
        "outputId": "a1724be1-b273-4892-a0bc-875c0b5b0533"
      },
      "source": [
        "#creating the array of n-dim\n",
        "arr = np.array([1,2,3,4], ndmin=6)\n",
        "print(arr)\n",
        "print(\"No. of Dimensions: \",arr.ndim)"
      ],
      "execution_count": 12,
      "outputs": [
        {
          "output_type": "stream",
          "text": [
            "[[[[[[1 2 3 4]]]]]]\n",
            "No. of Dimensions:  6\n"
          ],
          "name": "stdout"
        }
      ]
    },
    {
      "cell_type": "markdown",
      "metadata": {
        "id": "PPTiKR5KaISp"
      },
      "source": [
        "**Accessing Element**"
      ]
    },
    {
      "cell_type": "code",
      "metadata": {
        "colab": {
          "base_uri": "https://localhost:8080/"
        },
        "id": "tRP0tGnGaM2O",
        "outputId": "cc7af214-8df6-4842-a884-9a843d703d94"
      },
      "source": [
        "print(arr0)\n",
        "\n",
        "print(arr1[0])\n",
        "\n",
        "print(arr2[1,1])\n",
        "\n",
        "print(arr3[0,0,-1])"
      ],
      "execution_count": 14,
      "outputs": [
        {
          "output_type": "stream",
          "text": [
            "45\n",
            "23\n",
            "77\n",
            "3\n"
          ],
          "name": "stdout"
        }
      ]
    },
    {
      "cell_type": "markdown",
      "metadata": {
        "id": "OiL1BUcm9jBg"
      },
      "source": [
        "**Shape of array**"
      ]
    },
    {
      "cell_type": "code",
      "metadata": {
        "colab": {
          "base_uri": "https://localhost:8080/"
        },
        "id": "5VvPLFVZ8aNl",
        "outputId": "a14ee9a5-96a7-4518-e45e-3763ba4b5820"
      },
      "source": [
        "arr = np.array([[1,5,8,34,889],[12,56,33,90,34]])\n",
        "arr_len = arr.shape\n",
        "print(arr_len)"
      ],
      "execution_count": 19,
      "outputs": [
        {
          "output_type": "stream",
          "text": [
            "(2, 5)\n"
          ],
          "name": "stdout"
        }
      ]
    },
    {
      "cell_type": "markdown",
      "metadata": {
        "id": "P2icwM7x-JhR"
      },
      "source": [
        "**Data Types**"
      ]
    },
    {
      "cell_type": "code",
      "metadata": {
        "colab": {
          "base_uri": "https://localhost:8080/"
        },
        "id": "fDTkNc_59gtT",
        "outputId": "9924d896-2d56-4059-a047-deba5706baf6"
      },
      "source": [
        "arr = np.array(['apple','banana','cherry'])\n",
        "\n",
        "print(arr.dtype)"
      ],
      "execution_count": 21,
      "outputs": [
        {
          "output_type": "stream",
          "text": [
            "<U6\n"
          ],
          "name": "stdout"
        }
      ]
    },
    {
      "cell_type": "code",
      "metadata": {
        "colab": {
          "base_uri": "https://localhost:8080/"
        },
        "id": "UiX-U0gJ-al_",
        "outputId": "45455609-ceb9-460d-ba10-bbec94e66864"
      },
      "source": [
        "arr = np.array([1,2,3,4], dtype='int8')  #int8, int16, int 32\n",
        "print(arr)\n",
        "print(arr.dtype)"
      ],
      "execution_count": 24,
      "outputs": [
        {
          "output_type": "stream",
          "text": [
            "[1 2 3 4]\n",
            "int8\n"
          ],
          "name": "stdout"
        }
      ]
    },
    {
      "cell_type": "code",
      "metadata": {
        "colab": {
          "base_uri": "https://localhost:8080/"
        },
        "id": "SQMDHVNP-nqr",
        "outputId": "b58a1c37-9048-4502-a93d-861d655aff43"
      },
      "source": [
        "arr = np.array([1.3,4.2,6.7])\n",
        "print(arr)\n",
        "print(arr.dtype)\n",
        "\n",
        "newarr = arr.astype(int)\n",
        "print(newarr)\n",
        "print(newarr.dtype)"
      ],
      "execution_count": 28,
      "outputs": [
        {
          "output_type": "stream",
          "text": [
            "[1.3 4.2 6.7]\n",
            "float64\n",
            "[1 4 6]\n",
            "int64\n"
          ],
          "name": "stdout"
        }
      ]
    },
    {
      "cell_type": "markdown",
      "metadata": {
        "id": "lCf1zf5m_TfQ"
      },
      "source": [
        "**Copy & View**"
      ]
    },
    {
      "cell_type": "code",
      "metadata": {
        "colab": {
          "base_uri": "https://localhost:8080/"
        },
        "id": "lSpiWEyf_JY0",
        "outputId": "33f3e8d2-b88a-4f53-acaa-06672703f4ac"
      },
      "source": [
        "arr = np.array([1,2,3,4,5])\n",
        "x = arr.copy()\n",
        "x[0] = 42\n",
        "\n",
        "print(arr)\n",
        "print(x)"
      ],
      "execution_count": 29,
      "outputs": [
        {
          "output_type": "stream",
          "text": [
            "[1 2 3 4 5]\n",
            "[42  2  3  4  5]\n"
          ],
          "name": "stdout"
        }
      ]
    },
    {
      "cell_type": "code",
      "metadata": {
        "colab": {
          "base_uri": "https://localhost:8080/"
        },
        "id": "mFVD5vw9_gaQ",
        "outputId": "5bc6f45f-6e85-4575-f22a-1cb1fcec7f46"
      },
      "source": [
        "arr = np.array([1,2,3,4,5])\n",
        "x = arr.view()\n",
        "x[0] = 42\n",
        "\n",
        "print(arr)\n",
        "print(x)"
      ],
      "execution_count": 30,
      "outputs": [
        {
          "output_type": "stream",
          "text": [
            "[42  2  3  4  5]\n",
            "[42  2  3  4  5]\n"
          ],
          "name": "stdout"
        }
      ]
    },
    {
      "cell_type": "markdown",
      "metadata": {
        "id": "Th7f2CEPAGlx"
      },
      "source": [
        "**Reshaping Array**"
      ]
    },
    {
      "cell_type": "code",
      "metadata": {
        "colab": {
          "base_uri": "https://localhost:8080/"
        },
        "id": "YWiFfT0rAL8k",
        "outputId": "3e9bced2-0e5d-4e30-cb7c-27c4aaa74157"
      },
      "source": [
        "arr = np.array([1,2,3,4,5,6,7,8,9])\n",
        "newarr= arr.reshape(3,3)\n",
        "\n",
        "print(newarr)"
      ],
      "execution_count": 32,
      "outputs": [
        {
          "output_type": "stream",
          "text": [
            "[[1 2 3]\n",
            " [4 5 6]\n",
            " [7 8 9]]\n"
          ],
          "name": "stdout"
        }
      ]
    },
    {
      "cell_type": "code",
      "metadata": {
        "colab": {
          "base_uri": "https://localhost:8080/"
        },
        "id": "Edjkh76ZAW-u",
        "outputId": "bd32a013-9560-44c0-94fe-abd18ac9d58f"
      },
      "source": [
        "arr = np.array([1,2,3,4,5,6,7,8,9,3,4,1])\n",
        "newarr= arr.reshape(2,2,3)\n",
        "\n",
        "print(newarr)"
      ],
      "execution_count": 34,
      "outputs": [
        {
          "output_type": "stream",
          "text": [
            "[[[1 2 3]\n",
            "  [4 5 6]]\n",
            "\n",
            " [[7 8 9]\n",
            "  [3 4 1]]]\n"
          ],
          "name": "stdout"
        }
      ]
    },
    {
      "cell_type": "code",
      "metadata": {
        "colab": {
          "base_uri": "https://localhost:8080/"
        },
        "id": "c79agXEXAmN-",
        "outputId": "52340e8a-cd1a-4120-d715-9ee6fb7cba15"
      },
      "source": [
        "arr = np.array([[1,2,3],[4,5,6]])\n",
        "newarr = arr.reshape(-1)\n",
        "\n",
        "print(newarr)"
      ],
      "execution_count": 35,
      "outputs": [
        {
          "output_type": "stream",
          "text": [
            "[1 2 3 4 5 6]\n"
          ],
          "name": "stdout"
        }
      ]
    },
    {
      "cell_type": "markdown",
      "metadata": {
        "id": "jm-K5WDkBAWx"
      },
      "source": [
        "**Concatenate**"
      ]
    },
    {
      "cell_type": "code",
      "metadata": {
        "colab": {
          "base_uri": "https://localhost:8080/"
        },
        "id": "-lpg0Ow_A56O",
        "outputId": "cfa9b188-96cc-40a0-ca31-7712d6e70e51"
      },
      "source": [
        "arr1 = np.array([1, 4 ,8 , 9])\n",
        "arr2 = np.array([2, 3, 5, 0])\n",
        "arr = np.concatenate((arr1,arr2), axis=0)\n",
        "print(arr)"
      ],
      "execution_count": 43,
      "outputs": [
        {
          "output_type": "stream",
          "text": [
            "[1 4 8 9 2 3 5 0]\n"
          ],
          "name": "stdout"
        }
      ]
    },
    {
      "cell_type": "code",
      "metadata": {
        "colab": {
          "base_uri": "https://localhost:8080/"
        },
        "id": "CTUCC0t0Bpfb",
        "outputId": "133bfd81-bfea-4cf7-ccb7-aa8d02522778"
      },
      "source": [
        "arr1 = np.array([[1, 4 ,8 , 9], [12,4,56,23]])\n",
        "arr2 = np.array([[2, 3, 5, 0], [11,22,33,44]])\n",
        "arr = np.concatenate((arr1,arr2), axis=1)\n",
        "print(arr)"
      ],
      "execution_count": 45,
      "outputs": [
        {
          "output_type": "stream",
          "text": [
            "[[ 1  4  8  9  2  3  5  0]\n",
            " [12  4 56 23 11 22 33 44]]\n"
          ],
          "name": "stdout"
        }
      ]
    },
    {
      "cell_type": "markdown",
      "metadata": {
        "id": "axKjNlFCB6vM"
      },
      "source": [
        "**Stacking**"
      ]
    },
    {
      "cell_type": "code",
      "metadata": {
        "colab": {
          "base_uri": "https://localhost:8080/"
        },
        "id": "4YqiUlxXB9DD",
        "outputId": "536239ce-3203-4bfd-f73a-880b5ff1ceac"
      },
      "source": [
        "arr1 = np.array([1, 2, 3])\n",
        "arr2 = np.array([4, 5, 6])\n",
        "\n",
        "arr = np.stack((arr1, arr2), axis=1)\n",
        "\n",
        "print(arr)"
      ],
      "execution_count": 46,
      "outputs": [
        {
          "output_type": "stream",
          "text": [
            "[[1 4]\n",
            " [2 5]\n",
            " [3 6]]\n"
          ],
          "name": "stdout"
        }
      ]
    },
    {
      "cell_type": "code",
      "metadata": {
        "colab": {
          "base_uri": "https://localhost:8080/"
        },
        "id": "yktSxVXACAlF",
        "outputId": "3cc586fb-9dfc-4197-b59d-069a20921fd5"
      },
      "source": [
        "# Horizontal Stacking\n",
        "\n",
        "arr1 = np.array([1, 2, 3])\n",
        "arr2 = np.array([4, 5, 6])\n",
        "\n",
        "arr = np.hstack((arr1, arr2))\n",
        "\n",
        "print(arr)"
      ],
      "execution_count": 47,
      "outputs": [
        {
          "output_type": "stream",
          "text": [
            "[1 2 3 4 5 6]\n"
          ],
          "name": "stdout"
        }
      ]
    },
    {
      "cell_type": "code",
      "metadata": {
        "colab": {
          "base_uri": "https://localhost:8080/"
        },
        "id": "uRDs6T0jCDYu",
        "outputId": "86672f26-28e6-4973-a02e-3875fe8afe58"
      },
      "source": [
        "# Horizontal Stacking\n",
        "\n",
        "arr1 = np.array([1, 2, 3])\n",
        "arr2 = np.array([4, 5, 6])\n",
        "\n",
        "arr = np.vstack((arr1, arr2))\n",
        "\n",
        "print(arr)"
      ],
      "execution_count": 48,
      "outputs": [
        {
          "output_type": "stream",
          "text": [
            "[[1 2 3]\n",
            " [4 5 6]]\n"
          ],
          "name": "stdout"
        }
      ]
    },
    {
      "cell_type": "markdown",
      "metadata": {
        "id": "scL5dQsbCK12"
      },
      "source": [
        "**Assignment  -- Display the content of list as count of each element in  the form of Dictionary. **"
      ]
    },
    {
      "cell_type": "code",
      "metadata": {
        "colab": {
          "base_uri": "https://localhost:8080/"
        },
        "id": "3jXTaVdtCbPP",
        "outputId": "066465d6-0968-4551-f263-00f328327663"
      },
      "source": [
        "a=[10,12,11,12,13,10]\n",
        "b=[1,2,6,2,47,85,2,45,2,1]\n",
        "\n",
        "s1 = set(a)\n",
        "s2 = set(b)\n",
        "print(s1)\n",
        "print(s2)"
      ],
      "execution_count": 49,
      "outputs": [
        {
          "output_type": "stream",
          "text": [
            "{10, 11, 12, 13}\n",
            "{1, 2, 6, 45, 47, 85}\n"
          ],
          "name": "stdout"
        }
      ]
    },
    {
      "cell_type": "code",
      "metadata": {
        "colab": {
          "base_uri": "https://localhost:8080/"
        },
        "id": "nWaQWsSNCfO0",
        "outputId": "f221bf00-a31d-4193-f68e-d18d58f60382"
      },
      "source": [
        "A_list=[]\n",
        "for i in s1:\n",
        "    A_list.append((i, a.count(i)))\n",
        "\n",
        "print(A_list)\n",
        "\n",
        "B_list=[]\n",
        "for i in s2:\n",
        "    B_list.append((i, b.count(i)))\n",
        "\n",
        "print(B_list)"
      ],
      "execution_count": 50,
      "outputs": [
        {
          "output_type": "stream",
          "text": [
            "[(10, 2), (11, 1), (12, 2), (13, 1)]\n",
            "[(1, 2), (2, 4), (6, 1), (45, 1), (47, 1), (85, 1)]\n"
          ],
          "name": "stdout"
        }
      ]
    },
    {
      "cell_type": "code",
      "metadata": {
        "colab": {
          "base_uri": "https://localhost:8080/"
        },
        "id": "fNH1jbsqCmRA",
        "outputId": "28f68dde-21b3-41a9-c53b-367ddcf7a1b6"
      },
      "source": [
        "d={}\n",
        "d[\"List A\"]=A_list\n",
        "d[\"List B\"]=B_list\n",
        "d"
      ],
      "execution_count": 51,
      "outputs": [
        {
          "output_type": "execute_result",
          "data": {
            "text/plain": [
              "{'List A': [(10, 2), (11, 1), (12, 2), (13, 1)],\n",
              " 'List B': [(1, 2), (2, 4), (6, 1), (45, 1), (47, 1), (85, 1)]}"
            ]
          },
          "metadata": {
            "tags": []
          },
          "execution_count": 51
        }
      ]
    }
  ]
}